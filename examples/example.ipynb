{
 "cells": [
  {
   "cell_type": "code",
   "execution_count": null,
   "metadata": {},
   "outputs": [],
   "source": [
    "from pathlib import Path\n",
    "\n",
    "import matplotlib.pyplot as plt\n",
    "import model_banana_2D\n",
    "import numpy as np\n",
    "\n",
    "from lsmcmc import algorithms, logging, output, sampling, storage"
   ]
  },
  {
   "cell_type": "code",
   "execution_count": null,
   "metadata": {},
   "outputs": [],
   "source": [
    "x_value = np.linspace(-1, 1, 1000)\n",
    "y_value = np.linspace(-0.5, 1, 1000)\n",
    "x_value, y_value = np.meshgrid(x_value, y_value)\n",
    "density = model_banana_2D.evaluate_density(x_value, y_value)\n",
    "model_banana_2D.plot_density(x_value, y_value, density)"
   ]
  },
  {
   "cell_type": "code",
   "execution_count": null,
   "metadata": {},
   "outputs": [],
   "source": [
    "acceptance_rate_output = output.MCMCOutput(\n",
    "    output.AcceptanceQoI(),\n",
    "    output.RunningMeanStatistic(),\n",
    "    f\"{'Accept Rate':<12}\",\n",
    "    \"<+12.3e\",\n",
    "    log=True,\n",
    ")\n",
    "c0_output = output.MCMCOutput(\n",
    "    output.ComponentQoI(0),\n",
    "    output.IdentityStatistic(),\n",
    "    f\"{'Component 0':<12}\",\n",
    "    \"<+12.3e\",\n",
    "    log=True\n",
    ")\n",
    "running_mean_c0_output = output.MCMCOutput(\n",
    "    output.ComponentQoI(0),\n",
    "    output.RunningMeanStatistic(),\n",
    "    f\"{'Run_mean_C0':<12}\",\n",
    "    \"<+12.3e\",\n",
    "    log=True,\n",
    ")\n",
    "batch_mean_c0_output = output.MCMCOutput(\n",
    "    output.ComponentQoI(0),\n",
    "    output.BatchMeanStatistic(1000),\n",
    "    f\"{'Batch_mean_C0':<14}\",\n",
    "    \"<+14.3e\",\n",
    "    log=True,\n",
    ")\n",
    "outputs = (acceptance_rate_output, c0_output, running_mean_c0_output, batch_mean_c0_output)"
   ]
  },
  {
   "cell_type": "code",
   "execution_count": null,
   "metadata": {},
   "outputs": [],
   "source": [
    "logger_settings = logging.LoggerSettings(\n",
    "    do_printing=True,\n",
    "    logfile_path=Path(\"logfile.log\"),\n",
    "    write_mode=\"w\",\n",
    ")\n",
    "algorithm_settings = algorithms.AlgorithmSettings(\n",
    "    step_width=0.4,\n",
    "    proposal_rng=np.random.default_rng(seed=0),\n",
    "    accept_reject_rng=np.random.default_rng(seed=1),\n",
    ")\n",
    "sampler_settings = sampling.SamplerRunSettings(\n",
    "    num_samples=10000,\n",
    "    initial_state=np.array([-0.5, 0.2]),\n",
    "    print_interval=1000,\n",
    "    store_interval=1,\n",
    ")\n",
    "\n",
    "sample_storage = storage.NumpyStorage()\n",
    "posterior_model = model_banana_2D.BananaModel()\n",
    "logger = logging.MCMCLogger(logger_settings)\n",
    "algorithm = algorithms.pCNAlgorithm(algorithm_settings, posterior_model)\n",
    "sampler = sampling.Sampler(algorithm, sample_storage, outputs, logger)\n",
    "samples, outputs = sampler.run(sampler_settings)"
   ]
  },
  {
   "cell_type": "code",
   "execution_count": null,
   "metadata": {},
   "outputs": [],
   "source": [
    "_, ax = plt.subplots(figsize=(4, 4), layout=\"constrained\")\n",
    "ax.scatter(samples.values[0, :], samples.values[1, :], alpha=0.05)"
   ]
  }
 ],
 "metadata": {
  "kernelspec": {
   "display_name": ".venv",
   "language": "python",
   "name": "python3"
  },
  "language_info": {
   "codemirror_mode": {
    "name": "ipython",
    "version": 3
   },
   "file_extension": ".py",
   "mimetype": "text/x-python",
   "name": "python",
   "nbconvert_exporter": "python",
   "pygments_lexer": "ipython3",
   "version": "3.12.0"
  }
 },
 "nbformat": 4,
 "nbformat_minor": 2
}
